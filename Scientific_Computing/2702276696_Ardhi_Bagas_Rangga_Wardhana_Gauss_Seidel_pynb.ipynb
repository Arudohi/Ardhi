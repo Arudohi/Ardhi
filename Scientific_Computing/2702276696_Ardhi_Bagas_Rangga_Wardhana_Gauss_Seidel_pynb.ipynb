{
  "nbformat": 4,
  "nbformat_minor": 0,
  "metadata": {
    "colab": {
      "provenance": [],
      "authorship_tag": "ABX9TyMfYhrKhAevMtRXlGyLcBic",
      "include_colab_link": true
    },
    "kernelspec": {
      "name": "python3",
      "display_name": "Python 3"
    },
    "language_info": {
      "name": "python"
    }
  },
  "cells": [
    {
      "cell_type": "markdown",
      "metadata": {
        "id": "view-in-github",
        "colab_type": "text"
      },
      "source": [
        "<a href=\"https://colab.research.google.com/github/Arudohi/Ardhi/blob/main/Scientific_Computing/2702276696_Ardhi_Bagas_Rangga_Wardhana_Gauss_Seidel_pynb.ipynb\" target=\"_parent\"><img src=\"https://colab.research.google.com/assets/colab-badge.svg\" alt=\"Open In Colab\"/></a>"
      ]
    },
    {
      "cell_type": "code",
      "execution_count": null,
      "metadata": {
        "colab": {
          "base_uri": "https://localhost:8080/"
        },
        "id": "qTujSnGYP7zw",
        "outputId": "6fdb51fc-707c-4482-e4a8-17bb43704115"
      },
      "outputs": [
        {
          "output_type": "stream",
          "name": "stdout",
          "text": [
            "matrix is diagonally dominant\n"
          ]
        }
      ],
      "source": [
        "import numpy as np\n",
        "a = [[8, 3, -3], [2, -8, 5], [3, 5, 10]]\n",
        "\n",
        "# find diagonal coefficients\n",
        "diag = np.diag(np.abs(a))\n",
        "\n",
        "#find row sum without diagonal\n",
        "off_diag = np.sum(np.abs(a), axis = 1) - diag\n",
        "\n",
        "if np.all(diag > off_diag) :\n",
        "  print('matrix is diagonally dominant')\n",
        "else :\n",
        "  print('not diagonally dominant')"
      ]
    },
    {
      "cell_type": "code",
      "source": [
        "x1 = 0\n",
        "x2 = 0\n",
        "x3 = 0\n",
        "epsilon = 0.01\n",
        "converged = False\n",
        "\n",
        "x_old = np.array([x1, x2, x3])"
      ],
      "metadata": {
        "id": "01O0j7xGVG2o"
      },
      "execution_count": null,
      "outputs": []
    },
    {
      "cell_type": "code",
      "source": [
        "print('Iteration result')\n",
        "print(' k,   x1,    x2,    x3  ')\n",
        "for k in range (1, 50):\n",
        "  x1 = (14-3*x2+3*x3)/8\n",
        "  x2 = (5+2*x1-5*x3)/(-8)\n",
        "  x3 = (-8-3*x1-5*x2)/(-10)\n",
        "  x = np.array([x1, x2, x3])\n",
        "\n",
        "  dx = np.sqrt(np.dot(x-x_old, x-x_old))\n",
        "\n",
        "  print(\"%d,  %.4f, %.4f, %.4f\"%(k,   x1,   x2,   x3))\n",
        "  if dx < epsilon:\n",
        "    converged = True\n",
        "    print('Converged!')\n",
        "    break\n",
        "\n",
        "    x_old = x\n",
        "\n",
        "if not converged:\n",
        "  print('Not converged, increase the # of iterations')"
      ],
      "metadata": {
        "colab": {
          "base_uri": "https://localhost:8080/"
        },
        "id": "CWdcn_wWVud_",
        "outputId": "81fe7ba1-24a9-4cff-8511-5e8f4473c99c"
      },
      "execution_count": null,
      "outputs": [
        {
          "output_type": "stream",
          "name": "stdout",
          "text": [
            "Iteration result\n",
            " k,   x1,    x2,    x3  \n",
            "1,  1.7500, -1.0625, 0.7937\n",
            "2,  2.4461, -0.7404, 1.1636\n",
            "3,  2.4640, -0.5137, 1.2823\n",
            "4,  2.4235, -0.4294, 1.3123\n",
            "5,  2.4032, -0.4056, 1.3182\n",
            "6,  2.3964, -0.4002, 1.3188\n",
            "7,  2.3946, -0.3994, 1.3187\n",
            "8,  2.3943, -0.3994, 1.3186\n",
            "9,  2.3942, -0.3994, 1.3186\n",
            "10,  2.3942, -0.3995, 1.3185\n",
            "11,  2.3943, -0.3995, 1.3185\n",
            "12,  2.3943, -0.3995, 1.3185\n",
            "13,  2.3943, -0.3995, 1.3185\n",
            "14,  2.3943, -0.3995, 1.3185\n",
            "15,  2.3943, -0.3995, 1.3185\n",
            "16,  2.3943, -0.3995, 1.3185\n",
            "17,  2.3943, -0.3995, 1.3185\n",
            "18,  2.3943, -0.3995, 1.3185\n",
            "19,  2.3943, -0.3995, 1.3185\n",
            "20,  2.3943, -0.3995, 1.3185\n",
            "21,  2.3943, -0.3995, 1.3185\n",
            "22,  2.3943, -0.3995, 1.3185\n",
            "23,  2.3943, -0.3995, 1.3185\n",
            "24,  2.3943, -0.3995, 1.3185\n",
            "25,  2.3943, -0.3995, 1.3185\n",
            "26,  2.3943, -0.3995, 1.3185\n",
            "27,  2.3943, -0.3995, 1.3185\n",
            "28,  2.3943, -0.3995, 1.3185\n",
            "29,  2.3943, -0.3995, 1.3185\n",
            "30,  2.3943, -0.3995, 1.3185\n",
            "31,  2.3943, -0.3995, 1.3185\n",
            "32,  2.3943, -0.3995, 1.3185\n",
            "33,  2.3943, -0.3995, 1.3185\n",
            "34,  2.3943, -0.3995, 1.3185\n",
            "35,  2.3943, -0.3995, 1.3185\n",
            "36,  2.3943, -0.3995, 1.3185\n",
            "37,  2.3943, -0.3995, 1.3185\n",
            "38,  2.3943, -0.3995, 1.3185\n",
            "39,  2.3943, -0.3995, 1.3185\n",
            "40,  2.3943, -0.3995, 1.3185\n",
            "41,  2.3943, -0.3995, 1.3185\n",
            "42,  2.3943, -0.3995, 1.3185\n",
            "43,  2.3943, -0.3995, 1.3185\n",
            "44,  2.3943, -0.3995, 1.3185\n",
            "45,  2.3943, -0.3995, 1.3185\n",
            "46,  2.3943, -0.3995, 1.3185\n",
            "47,  2.3943, -0.3995, 1.3185\n",
            "48,  2.3943, -0.3995, 1.3185\n",
            "49,  2.3943, -0.3995, 1.3185\n",
            "Not converged, increase the # of iterations\n"
          ]
        }
      ]
    },
    {
      "cell_type": "code",
      "source": [
        "import numpy as np\n",
        "\n",
        "A = np.array([[4, 3, 5],\n",
        "              [-2, 4, 5],\n",
        "              [8, 8, 0]])\n",
        "y = np.array([2, 5, -3])\n",
        "\n",
        "x = np.linalg.solve(A, y)\n",
        "print(x)"
      ],
      "metadata": {
        "colab": {
          "base_uri": "https://localhost:8080/"
        },
        "id": "KwdcwaIaZ1YQ",
        "outputId": "a2585996-9783-4afc-c36f-18ed5de671b2"
      },
      "execution_count": null,
      "outputs": [
        {
          "output_type": "stream",
          "name": "stdout",
          "text": [
            "[-0.48214286  0.10714286  0.72142857]\n"
          ]
        }
      ]
    },
    {
      "cell_type": "code",
      "source": [
        "# matrix inversion approach\n",
        "A_inv = np.linalg.inv(A)\n",
        "\n",
        "x = np.dot(A_inv, y)\n",
        "print(x)"
      ],
      "metadata": {
        "colab": {
          "base_uri": "https://localhost:8080/"
        },
        "id": "kteu5xwNb_DP",
        "outputId": "f36f6954-c70f-4638-be36-8271eaf54f27"
      },
      "execution_count": null,
      "outputs": [
        {
          "output_type": "stream",
          "name": "stdout",
          "text": [
            "[-0.48214286  0.10714286  0.72142857]\n"
          ]
        }
      ]
    }
  ]
}