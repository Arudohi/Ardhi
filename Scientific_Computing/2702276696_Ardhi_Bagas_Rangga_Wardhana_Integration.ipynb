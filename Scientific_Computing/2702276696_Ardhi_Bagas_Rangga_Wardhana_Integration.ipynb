{
  "nbformat": 4,
  "nbformat_minor": 0,
  "metadata": {
    "colab": {
      "provenance": [],
      "authorship_tag": "ABX9TyP6mw1DnzqoZLjHH8zI7qV6",
      "include_colab_link": true
    },
    "kernelspec": {
      "name": "python3",
      "display_name": "Python 3"
    },
    "language_info": {
      "name": "python"
    }
  },
  "cells": [
    {
      "cell_type": "markdown",
      "metadata": {
        "id": "view-in-github",
        "colab_type": "text"
      },
      "source": [
        "<a href=\"https://colab.research.google.com/github/Arudohi/Ardhi/blob/main/Scientific_Computing/2702276696_Ardhi_Bagas_Rangga_Wardhana_Integration.ipynb\" target=\"_parent\"><img src=\"https://colab.research.google.com/assets/colab-badge.svg\" alt=\"Open In Colab\"/></a>"
      ]
    },
    {
      "cell_type": "code",
      "source": [
        "import numpy as np\n",
        "\n",
        "a = 0\n",
        "b = np.pi\n",
        "n = 11\n",
        "h = (b - a) / (n - 1)\n",
        "x = np.linspace(a, b, n)\n",
        "f = np.sin(x)\n",
        "\n",
        "I_riemannL = h * sum(f[:n-1])\n",
        "err_riemannL = 2 - I_riemannL\n",
        "\n",
        "I_riemannR = h * sum(f[1::])\n",
        "err_riemannR = 2 - I_riemannR\n",
        "\n",
        "I_mid = h * sum(np.sin((x[:n-1]\\\n",
        "        + x[1:])/2))\n",
        "err_mid = 2 - I_mid\n",
        "\n",
        "print(I_riemannL)\n",
        "print(err_riemannL)\n",
        "\n",
        "print(I_riemannR)\n",
        "print(err_riemannR)\n",
        "\n",
        "print(I_mid)\n",
        "print(err_mid)"
      ],
      "metadata": {
        "colab": {
          "base_uri": "https://localhost:8080/"
        },
        "id": "kHa3XrsC_P1t",
        "outputId": "0752bb39-44df-457d-f3b8-5508a55a17e3"
      },
      "execution_count": null,
      "outputs": [
        {
          "output_type": "stream",
          "name": "stdout",
          "text": [
            "1.9835235375094546\n",
            "0.01647646249054535\n",
            "1.9835235375094546\n",
            "0.01647646249054535\n",
            "2.0082484079079745\n",
            "-0.008248407907974542\n"
          ]
        }
      ]
    },
    {
      "cell_type": "code",
      "execution_count": null,
      "metadata": {
        "colab": {
          "base_uri": "https://localhost:8080/"
        },
        "id": "ZVjVW-Hw_HmY",
        "outputId": "1367605b-f608-44df-8710-8ece001e557a"
      },
      "outputs": [
        {
          "output_type": "stream",
          "name": "stdout",
          "text": [
            "1.9835235375094546\n",
            "0.01647646249054535\n"
          ]
        }
      ],
      "source": [
        "import numpy as np\n",
        "\n",
        "a = 0\n",
        "b = np.pi\n",
        "n = 11\n",
        "h = (b - a) / (n - 1)\n",
        "x = np.linspace(a, b, n)\n",
        "f = np.sin(x)\n",
        "\n",
        "I_trap = (h/2)*(f[0] + \\\n",
        "          2 * sum(f[1:n-1]) + f[n-1])\n",
        "err_trap = 2 - I_trap\n",
        "\n",
        "print(I_trap)\n",
        "print(err_trap)"
      ]
    },
    {
      "cell_type": "code",
      "source": [
        "import numpy as np\n",
        "from scipy.integrate import trapz\n",
        "\n",
        "a = 0\n",
        "b = np.pi\n",
        "n = 11\n",
        "h = (b - a) / (n - 1)\n",
        "x = np.linspace(a, b, n)\n",
        "f = np.sin(x)\n",
        "\n",
        "I_trapz = trapz(f,x)\n",
        "I_trap = (h/2)*(f[0] + 2 * sum(f[1:n-1]) + f[n-1])\n",
        "\n",
        "print(I_trapz)\n",
        "print(I_trap)\n"
      ],
      "metadata": {
        "colab": {
          "base_uri": "https://localhost:8080/"
        },
        "id": "MxZ7kPhi_mm3",
        "outputId": "11d3b13f-1b17-489e-fb93-f37c423ad3fb"
      },
      "execution_count": null,
      "outputs": [
        {
          "output_type": "stream",
          "name": "stdout",
          "text": [
            "1.9835235375094544\n",
            "1.9835235375094546\n"
          ]
        }
      ]
    },
    {
      "cell_type": "code",
      "source": [
        "from scipy.integrate import quad\n",
        "\n",
        "I_quad, est_err_quad = \\\n",
        "        quad(np.sin, 0, np.pi)\n",
        "print(I_quad)\n",
        "err_quad = 2 - I_quad\n",
        "print(est_err_quad, err_quad)"
      ],
      "metadata": {
        "colab": {
          "base_uri": "https://localhost:8080/"
        },
        "id": "p6bMgrsr_5_M",
        "outputId": "b7e039e5-a04f-4150-f2c4-bcc1f8c08b41"
      },
      "execution_count": null,
      "outputs": [
        {
          "output_type": "stream",
          "name": "stdout",
          "text": [
            "2.0\n",
            "2.220446049250313e-14 0.0\n"
          ]
        }
      ]
    },
    {
      "cell_type": "markdown",
      "source": [
        "Quiz"
      ],
      "metadata": {
        "id": "iw1MoDcmxMGh"
      }
    },
    {
      "cell_type": "code",
      "source": [
        "import numpy as np\n",
        "\n",
        "# Define the function to integrate\n",
        "def f(x):\n",
        "    return np.log(1 + np.tan(x))\n",
        "\n",
        "# Trapezoidal rule implementation\n",
        "def trapezoidal_rule(f, a, b, n):\n",
        "    h = (b - a) / n\n",
        "    x = np.linspace(a, b, n + 1)\n",
        "    y = f(x)\n",
        "    T = (h / 2) * (y[0] + 2 * sum(y[1:n]) + y[n])\n",
        "    return T\n",
        "\n",
        "# Recursive trapezoidal rule implementation\n",
        "def recursive_trapezoidal(f, a, b, tol):\n",
        "    n = 1\n",
        "    T_prev = trapezoidal_rule(f, a, b, n)\n",
        "    error = tol + 1\n",
        "\n",
        "    while error > tol:\n",
        "        n *= 2\n",
        "        T_curr = trapezoidal_rule(f, a, b, n)\n",
        "        error = abs(T_curr - T_prev) / 3\n",
        "        T_prev = T_curr\n",
        "\n",
        "    return T_curr, n\n",
        "\n",
        "# Set the integration limits\n",
        "a = 0\n",
        "b = np.pi / 4\n",
        "tol = 1e-6\n",
        "\n",
        "# Calculate the integral using recursive trapezoidal rule\n",
        "integral, n_intervals = recursive_trapezoidal(f, a, b, tol)\n",
        "\n",
        "print(f\"{integral}\")\n",
        "print(f\"{n_intervals}\")\n"
      ],
      "metadata": {
        "id": "aH0WZvpGLyiL",
        "colab": {
          "base_uri": "https://localhost:8080/"
        },
        "outputId": "0474ae4c-9d12-417e-d278-f60735065f0e"
      },
      "execution_count": 3,
      "outputs": [
        {
          "output_type": "stream",
          "name": "stdout",
          "text": [
            "0.2721982612879502\n",
            "2\n"
          ]
        }
      ]
    }
  ]
}